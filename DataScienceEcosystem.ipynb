{
 "cells": [
  {
   "cell_type": "markdown",
   "id": "c92d1781-e927-4107-ad5e-5a4f00ced8f4",
   "metadata": {},
   "source": [
    "# Data Science Tools and Ecosystem"
   ]
  },
  {
   "cell_type": "markdown",
   "id": "24c5049d-f6af-4ecd-af7b-862302490b19",
   "metadata": {},
   "source": [
    "In this notebook, Data Science Tools and Ecosystem are summarized."
   ]
  },
  {
   "cell_type": "markdown",
   "id": "51856041-065f-4e72-a359-2cfef87fb50a",
   "metadata": {},
   "source": [
    "**Objectives:**\n",
    "<ul>\n",
    "    <li>List popular languages for Data Science </li>\n",
    "    <li>Identify open source or free technologies for Data Science</li> \n",
    "    <li>Learn how to use Git and notebooks</li> \n",
    "</ul>"
   ]
  },
  {
   "cell_type": "markdown",
   "id": "d318a887-8582-4b58-ad0f-b2493038cca3",
   "metadata": {},
   "source": [
    "Some of the popular languages that Data Scientists use are: \n",
    "<ol> \n",
    "    <li>Python</li>\n",
    "    <li>R</li>\n",
    "    <li>Julia</li>\n",
    "</ol>"
   ]
  },
  {
   "cell_type": "markdown",
   "id": "3782ea32-9a2f-4d66-b46b-0a92a901ae60",
   "metadata": {},
   "source": [
    "Some of the commonly used libraries used by Data Scientists include: \n",
    "<ol>\n",
    "    <li>Scientific libraries such as Pandas</li> \n",
    "    <li>NumPy library for arrays and matrices</li>\n",
    "    <li>Matplotlib for plots and graphs</li>\n",
    "    <li>Seaborn for plots</li>\n",
    "</ol>"
   ]
  },
  {
   "cell_type": "markdown",
   "id": "b102d92c-a6fc-4c63-8aeb-f61c81028246",
   "metadata": {},
   "source": [
    "| Data Science Tools |\n",
    "| ------------------ |\n",
    "| JupyterLab         |\n",
    "| VisualStudio Code  |\n",
    "| GoogleLab          |\n"
   ]
  },
  {
   "cell_type": "markdown",
   "id": "bf083ce5-cf79-4973-9592-0a73ee065e3e",
   "metadata": {},
   "source": [
    "### Below are a few examples of evaluating arithmetic expressions in Python\n"
   ]
  },
  {
   "cell_type": "code",
   "execution_count": 3,
   "id": "01352507-8bd2-4abc-aab5-1507a588e354",
   "metadata": {},
   "outputs": [
    {
     "data": {
      "text/plain": [
       "17"
      ]
     },
     "execution_count": 3,
     "metadata": {},
     "output_type": "execute_result"
    }
   ],
   "source": [
    "# This is a simple arithmetic expresstion to multiply, then add integers.\n",
    "(3*4)+5"
   ]
  },
  {
   "cell_type": "code",
   "execution_count": 7,
   "id": "f5c19ee6-07da-4a5e-bea5-040bf98d5157",
   "metadata": {},
   "outputs": [
    {
     "name": "stdout",
     "output_type": "stream",
     "text": [
      "3.3333333333333335\n"
     ]
    }
   ],
   "source": [
    "# This will convert 200 minutes to hours by diving by 60\n",
    "minutes = 200\n",
    "\n",
    "hours = minutes/60\n",
    "\n",
    "print(hours)\n"
   ]
  },
  {
   "cell_type": "markdown",
   "id": "99526dd6-ca20-41ff-8d34-8d3bfdf6a862",
   "metadata": {},
   "source": [
    " ## Author\n",
    " Phuong N.\n"
   ]
  },
  {
   "cell_type": "code",
   "execution_count": null,
   "id": "c6e2bab5-8b76-4f8c-877d-c9f6c2a908a8",
   "metadata": {},
   "outputs": [],
   "source": []
  },
  {
   "cell_type": "code",
   "execution_count": null,
   "id": "98b6c9b2-8414-4a26-a9bc-4f5ce6b385e7",
   "metadata": {},
   "outputs": [],
   "source": []
  }
 ],
 "metadata": {
  "kernelspec": {
   "display_name": "Python 3 (ipykernel)",
   "language": "python",
   "name": "python3"
  },
  "language_info": {
   "codemirror_mode": {
    "name": "ipython",
    "version": 3
   },
   "file_extension": ".py",
   "mimetype": "text/x-python",
   "name": "python",
   "nbconvert_exporter": "python",
   "pygments_lexer": "ipython3",
   "version": "3.12.1"
  }
 },
 "nbformat": 4,
 "nbformat_minor": 5
}
